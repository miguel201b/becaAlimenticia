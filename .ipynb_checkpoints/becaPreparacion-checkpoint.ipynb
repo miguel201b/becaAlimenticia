{
 "cells": [
  {
   "cell_type": "code",
   "execution_count": 14,
   "id": "initial_id",
   "metadata": {
    "jupyter": {
     "is_executing": true
    }
   },
   "source": [
    "import pandas as pd\n",
    "import psycopg2\n",
    "import os\n",
    "from bs4 import BeautifulSoup"
   ],
   "outputs": []
  },
  {
   "cell_type": "code",
   "execution_count": 3,
   "id": "5b504f10971454d8",
   "metadata": {},
   "source": [
    "def conexion():\n",
    "    baseDatos = os.getenv('baseDatos')\n",
    "    conn = psycopg2.connect(baseDatos)\n",
    "    cursor = conn.cursor()\n",
    "    return conn, cursor"
   ],
   "outputs": []
  },
  {
   "cell_type": "code",
   "execution_count": 8,
   "id": "6b920144-bdfe-45b9-83da-977a4532bee8",
   "metadata": {},
   "source": [
    "conn, cursor = conexion()\n",
    "query = '''SELECT cuenta, CONCAT_WS(' ',nombre,p_apellido,s_apellido)\n",
    "            FROM becas.alumnos\n",
    "            WHERE apoyo_alimenticio IS TRUE;'''\n",
    "cursor.execute(query)\n",
    "datos = cursor.fetchall()\n",
    "datos_df = pd.DataFrame(datos, columns=['cuenta','nombre'])\n",
    "conn.close()\n",
    "cursor.close()\n",
    "datos_df.head()"
   ],
   "outputs": []
  },
  {
   "cell_type": "code",
   "execution_count": 9,
   "id": "fa6cdd2f-d944-4689-bd8d-3737eebafe2a",
   "metadata": {},
   "source": [
    "import sys\n",
    "import os\n",
    "sys.path.append('/Users/miguelhernandez/Library/CloudStorage/OneDrive-EscuelaNacionalColegiodeCienciasyHumanidades,UNAM/2024-1/secretaria_estudiantil/Pruebas alimentacion de pagina/')\n",
    "from scrapping_mini import Scraper, Alumno"
   ],
   "outputs": []
  },
  {
   "cell_type": "code",
   "execution_count": 12,
   "id": "e29105c7-9e0e-46be-9c96-4db6e3ab8c53",
   "metadata": {},
   "source": [
    "datos_df_prueba = datos_df[:1]\n",
    "datos_df_prueba"
   ],
   "outputs": []
  },
  {
   "cell_type": "code",
   "execution_count": 15,
   "id": "8d213c03-f391-410c-a258-3cc7e74a97be",
   "metadata": {},
   "source": [
    "# Iniciar sesión en el scraper\n",
    "scraper = Scraper(usuario=\"ROSE631227A85\", contraseña=\"844346\")\n",
    "scraper.login()\n",
    "\n",
    "# Iterar sobre las filas del DataFrame 'datos_df_prueba'\n",
    "for index, alumno in datos_df_prueba.iterrows():\n",
    "    cuenta_alumno = alumno['cuenta']\n",
    "    \n",
    "    # Obtener la página del alumno usando la cuenta\n",
    "    html_alumno = scraper.obtener_pagina_alumno(cuenta_alumno)\n",
    "    \n",
    "    # Analizar el HTML con BeautifulSoup\n",
    "    soup = BeautifulSoup(html_alumno, 'html.parser')\n",
    "    \n",
    "    # Encontrar la fila que contiene 'Tutor:'\n",
    "    tutor_row = soup.find('tr', string=lambda x: x and 'Tutor:' in x)\n",
    "    if not tutor_row:\n",
    "        # Si no se encuentra directamente, buscar todas las filas y verificar el contenido\n",
    "        for tr in soup.find_all('tr'):\n",
    "            th = tr.find('th')\n",
    "            if th and 'Tutor:' in th.text:\n",
    "                tutor_row = tr\n",
    "                break\n",
    "    \n",
    "    if tutor_row:\n",
    "        # Obtener todos los elementos 'th' dentro de la fila\n",
    "        th_elements = tutor_row.find_all('th')\n",
    "        if len(th_elements) >= 3:\n",
    "            # El tercer 'th' contiene el nombre y correo del tutor\n",
    "            tutor_info = th_elements[2]\n",
    "            # Dividir el contenido por el salto de línea '<br>'\n",
    "            tutor_details = tutor_info.decode_contents().split('<br>')\n",
    "            # Extraer el nombre y el correo\n",
    "            tutor_name = tutor_details[0].strip()\n",
    "            tutor_email = tutor_details[1].strip() if len(tutor_details) > 1 else ''\n",
    "            print(f\"Tutor: {tutor_name}\")\n",
    "            print(f\"Correo del tutor: {tutor_email}\")\n",
    "        else:\n",
    "            print(\"No se encontró la información completa del tutor.\")\n",
    "    else:\n",
    "        print(\"No se encontró el tutor en la página.\")\n",
    "\n",
    "# Cerrar el scraper\n",
    "scraper.cerrar()"
   ],
   "outputs": []
  },
  {
   "cell_type": "code",
   "execution_count": null,
   "id": "1068658d-69bb-43f2-82e4-1ccc58a2b865",
   "metadata": {},
   "source": [],
   "outputs": []
  }
 ],
 "metadata": {
  "kernelspec": {
   "display_name": "Python 3 (ipykernel)",
   "language": "python",
   "name": "python3"
  },
  "language_info": {
   "codemirror_mode": {
    "name": "ipython",
    "version": 3
   },
   "file_extension": ".py",
   "mimetype": "text/x-python",
   "name": "python",
   "nbconvert_exporter": "python",
   "pygments_lexer": "ipython3",
   "version": "3.12.2"
  }
 },
 "nbformat": 4,
 "nbformat_minor": 5
}
