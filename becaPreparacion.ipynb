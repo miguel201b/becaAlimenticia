{
 "cells": [
  {
   "cell_type": "code",
   "execution_count": 30,
   "id": "initial_id",
   "metadata": {
    "jupyter": {
     "is_executing": true
    }
   },
   "source": [
    "import pandas as pd\n",
    "import psycopg2\n",
    "import os\n",
    "from bs4 import BeautifulSoup \n",
    "from IPython.display import display"
   ],
   "outputs": []
  },
  {
   "cell_type": "code",
   "execution_count": 2,
   "id": "5b504f10971454d8",
   "metadata": {},
   "source": [
    "def conexion():\n",
    "    baseDatos = os.getenv('baseDatos')\n",
    "    conn = psycopg2.connect(baseDatos)\n",
    "    cursor = conn.cursor()\n",
    "    return conn, cursor"
   ],
   "outputs": []
  },
  {
   "cell_type": "code",
   "execution_count": 8,
   "id": "6b920144-bdfe-45b9-83da-977a4532bee8",
   "metadata": {},
   "source": [
    "conn, cursor = conexion()\n",
    "query = '''SELECT cuenta, CONCAT_WS(' ',nombre,p_apellido,s_apellido)\n",
    "            FROM becas.alumnos\n",
    "            WHERE apoyo_alimenticio IS TRUE;'''\n",
    "cursor.execute(query)\n",
    "datos = cursor.fetchall()\n",
    "datos_df = pd.DataFrame(datos, columns=['cuenta','nombre'])\n",
    "conn.close()\n",
    "cursor.close()\n",
    "datos_df.head()"
   ],
   "outputs": []
  },
  {
   "cell_type": "code",
   "execution_count": 9,
   "id": "fa6cdd2f-d944-4689-bd8d-3737eebafe2a",
   "metadata": {},
   "source": [
    "import sys\n",
    "import os\n",
    "sys.path.append('/Users/miguelhernandez/Library/CloudStorage/OneDrive-EscuelaNacionalColegiodeCienciasyHumanidades,UNAM/2024-1/secretaria_estudiantil/Pruebas alimentacion de pagina/')\n",
    "from scrapping_mini import Scraper, Alumno"
   ],
   "outputs": []
  },
  {
   "cell_type": "code",
   "execution_count": 18,
   "id": "e29105c7-9e0e-46be-9c96-4db6e3ab8c53",
   "metadata": {},
   "source": [
    "datos_df_prueba = datos_df[:1].copy()\n",
    "datos_df_prueba\n",
    "datos_df_prueba['tutor'] = None\n",
    "datos_df_prueba['correo_tutor'] = None"
   ],
   "outputs": []
  },
  {
   "cell_type": "code",
   "execution_count": null,
   "id": "41f0fa4e-1a7f-4a6c-88a6-5e47b5bc3c09",
   "metadata": {},
   "source": [
    "from bs4 import BeautifulSoup\n",
    "\n",
    "# Iniciar sesión en el scraper\n",
    "scraper = Scraper(usuario=\"ROSE631227A85\", contraseña=\"844346\")\n",
    "scraper.login()\n",
    "\n",
    "# Iterar sobre las filas del DataFrame 'datos_df'\n",
    "for index, alumno in datos_df.iterrows():\n",
    "    cuenta_alumno = alumno['cuenta']\n",
    "    \n",
    "    # Obtener la página del alumno usando la cuenta\n",
    "    html_alumno = scraper.obtener_pagina_alumno(cuenta_alumno)\n",
    "    \n",
    "    # Analizar el HTML con BeautifulSoup\n",
    "    soup = BeautifulSoup(html_alumno, 'html.parser')\n",
    "    \n",
    "    try:\n",
    "        # Encontrar la fila que contiene 'Tutor:'\n",
    "        tutor_row = None\n",
    "        for tr in soup.find_all('tr'):\n",
    "            th = tr.find('th')\n",
    "            if th and 'Tutor:' in th.text:\n",
    "                tutor_row = tr\n",
    "                break\n",
    "        \n",
    "        # Extraer el nombre y correo del tutor\n",
    "        if tutor_row:\n",
    "            th_elements = tutor_row.find_all('th')\n",
    "            if len(th_elements) >= 3:\n",
    "                tutor_info = th_elements[2]\n",
    "                # Obtener los contenidos separados del 'th' (maneja automáticamente los <br/>)\n",
    "                tutor_contents = tutor_info.contents\n",
    "                # Filtrar los contenidos que sean cadenas de texto\n",
    "                tutor_texts = [content.strip() for content in tutor_contents if isinstance(content, str)]\n",
    "                # Asignar nombre y correo\n",
    "                tutor_name = tutor_texts[0] if len(tutor_texts) > 0 else ''\n",
    "                tutor_email = tutor_texts[1] if len(tutor_texts) > 1 else ''\n",
    "            else:\n",
    "                tutor_name = ''\n",
    "                tutor_email = ''\n",
    "        else:\n",
    "            tutor_name = ''\n",
    "            tutor_email = ''\n",
    "    except Exception as e:\n",
    "        # En caso de error, asignar valores vacíos\n",
    "        tutor_name = ''\n",
    "        tutor_email = ''\n",
    "    \n",
    "    # Agregar los datos al DataFrame\n",
    "    datos_df.at[index, 'tutor'] = tutor_name\n",
    "    datos_df.at[index, 'correo_tutor'] = tutor_email\n",
    "    \n",
    "    # Imprimir los resultados\n",
    "    print(f\"Tutor: {tutor_name}\")\n",
    "    print(f\"Correo del tutor: {tutor_email}\")\n",
    "\n",
    "# Cerrar el scraper\n",
    "scraper.cerrar()"
   ],
   "outputs": []
  },
  {
   "cell_type": "code",
   "execution_count": 36,
   "id": "64fb6ca1-1b2e-4375-9e8e-e3fe4b5713a0",
   "metadata": {},
   "source": [
    "import pickle\n",
    "# Crear un diccionario que contenga los tres DataFrames\n",
    "dataframes = {\n",
    "    'con_tutor': con_tutor,\n",
    "    'sin_tutor': sin_tutor,\n",
    "    'datos_df': datos_df\n",
    "}\n",
    "\n",
    "# Guardar el diccionario en un archivo pickle\n",
    "with open('dataframes.pkl', 'wb') as f:\n",
    "    pickle.dump(dataframes, f)"
   ],
   "outputs": []
  },
  {
   "cell_type": "markdown",
   "id": "6a202a24-287e-4af6-a93d-25dac360e9c2",
   "metadata": {},
   "source": [
    "### Los dataframes son con_tutor, sin_tutor, datos_df"
   ]
  },
  {
   "cell_type": "code",
   "execution_count": 3,
   "id": "f4b1fff6-66e7-4d28-88a1-79c83c3cd917",
   "metadata": {},
   "source": [
    "import pickle\n",
    "\n",
    "# Cargar el archivo pickle\n",
    "with open('dataframes.pkl', 'rb') as f:\n",
    "    dataframes = pickle.load(f)"
   ],
   "outputs": []
  },
  {
   "cell_type": "code",
   "execution_count": 4,
   "id": "08d97e19-cc69-4e38-a58d-4e7c210d3d95",
   "metadata": {},
   "source": [
    "con_tutor = dataframes['con_tutor']\n",
    "sin_tutor = dataframes['sin_tutor']"
   ],
   "outputs": []
  },
  {
   "cell_type": "code",
   "execution_count": 7,
   "id": "34eaf20f-1bbe-4bc4-b0de-85fb9006eeb5",
   "metadata": {},
   "source": [
    "conteo_alumnos_por_tutor = con_tutor.groupby('correo_tutor').size().reset_index(name='cantidad_alumnos')"
   ],
   "outputs": []
  },
  {
   "cell_type": "code",
   "execution_count": 8,
   "id": "8ac77ef5-bf4f-4bb5-bd1f-02a352bf05f4",
   "metadata": {},
   "source": [
    "print(conteo_alumnos_por_tutor['cantidad_alumnos'].mean())"
   ],
   "outputs": []
  },
  {
   "cell_type": "code",
   "execution_count": 9,
   "id": "1b3f8163-fda0-4d9e-bd3a-9ab9a16c6331",
   "metadata": {},
   "source": [
    "len(conteo_alumnos_por_tutor)"
   ],
   "outputs": []
  },
  {
   "cell_type": "code",
   "execution_count": 14,
   "id": "1e351978-4bd2-4bf0-aefc-a5bd5a057f70",
   "metadata": {
    "scrolled": true
   },
   "source": [
    "conn, cursor = conexion()"
   ],
   "outputs": []
  },
  {
   "cell_type": "code",
   "execution_count": 16,
   "id": "f3a71b74-5d06-4f9a-ae6a-c25ccc728c40",
   "metadata": {},
   "source": [
    "con_tutor.head(0)"
   ],
   "outputs": []
  },
  {
   "cell_type": "code",
   "execution_count": 22,
   "id": "018a4dbf-0bc5-4c40-8d8b-512ea899c490",
   "metadata": {},
   "source": [
    "conn, cursor = conexion()\n",
    "try:\n",
    "    # Iterar sobre los alumnos para realizar la inserción\n",
    "    for index, alumno in con_tutor.iterrows():\n",
    "        cuenta = alumno['cuenta']  # Asegúrate de que este valor sea un entero\n",
    "        tutor = alumno['tutor']\n",
    "        correo_tutor = alumno['correo_tutor']\n",
    "        \n",
    "        try:\n",
    "            # Ejecutar la consulta SQL\n",
    "            cursor.execute(query, (cuenta, tutor, correo_tutor))\n",
    "        except Exception as e:\n",
    "            # Si algo falla, hacer rollback\n",
    "            conn.rollback()\n",
    "            print(f\"Error al insertar en la cuenta {cuenta}: {e}\")\n",
    "        else:\n",
    "            # Si no hay errores, hacer commit\n",
    "            conn.commit()\n",
    "finally:\n",
    "    # Cerrar cursor y conexión en todos los casos, después del bucle\n",
    "    cursor.close()\n",
    "    conn.close()"
   ],
   "outputs": []
  },
  {
   "cell_type": "code",
   "execution_count": 5,
   "id": "6b5c7d03-586f-4c56-99e7-d89f072b9c7d",
   "metadata": {},
   "source": [
    "tutores = con_tutor[['tutor', 'correo_tutor']].drop_duplicates().reset_index(drop=True)"
   ],
   "outputs": []
  },
  {
   "cell_type": "code",
   "execution_count": 8,
   "id": "ae3f855c-86dc-45c2-a58f-68cb37d64da9",
   "metadata": {},
   "source": [
    "import string \n",
    "import random"
   ],
   "outputs": []
  },
  {
   "cell_type": "code",
   "execution_count": 10,
   "id": "c0d7ae90-3773-42eb-ae90-9a5e2c90a565",
   "metadata": {},
   "source": [
    "def generar_identificador_tutor(longitud=15):\n",
    "    # Definir los caracteres que se utilizarán para generar el identificador\n",
    "    caracteres = string.ascii_letters + string.digits + \"!#$%^&*_+=\"\n",
    "    # Generar una cadena aleatoria de la longitud especificada\n",
    "    identificador = ''.join(random.choice(caracteres) for _ in range(longitud))\n",
    "    return identificador"
   ],
   "outputs": []
  },
  {
   "cell_type": "code",
   "execution_count": 12,
   "id": "9423172d-7c1a-4b1f-9742-94e67638a9a7",
   "metadata": {},
   "source": [
    "tutores['identificador']=None\n",
    "tutores['id']=None"
   ],
   "outputs": []
  },
  {
   "cell_type": "code",
   "execution_count": 26,
   "id": "1ea3da97-41e8-48b3-b9b1-f6faf17b8616",
   "metadata": {},
   "source": [
    "query = '''\n",
    "INSERT INTO becas.tutores (nombre, correo, identificador)\n",
    "VALUES (%s, %s, %s)\n",
    "RETURNING id\n",
    "'''"
   ],
   "outputs": []
  },
  {
   "cell_type": "code",
   "execution_count": 27,
   "id": "d9043da9-b4cb-45d0-aad5-4450390812b8",
   "metadata": {},
   "source": [
    "print(query)"
   ],
   "outputs": []
  },
  {
   "cell_type": "code",
   "execution_count": 28,
   "id": "5308fa1f-5ed6-4448-a1b9-a02f6933d6cf",
   "metadata": {},
   "source": [
    "conn, cursor = conexion()\n",
    "\n",
    "try:\n",
    "    for _, tutor in tutores.iterrows():\n",
    "        try:\n",
    "            nombre = tutor['tutor']\n",
    "            correo_tutor = tutor['correo_tutor']\n",
    "            identificador = generar_identificador_tutor()\n",
    "\n",
    "            # Consulta para insertar el tutor en la base de datos\n",
    "            cursor.execute(query, (nombre, correo_tutor, identificador))\n",
    "\n",
    "            # Obtener el id del tutor generado\n",
    "            tutor_id = cursor.fetchone()[0]\n",
    "\n",
    "            # Actualizar el DataFrame con el id y el identificador\n",
    "            tutores.at[_, 'id'] = tutor_id\n",
    "            tutores.at[_, 'identificador'] = identificador\n",
    "\n",
    "            # Confirmar la transacción\n",
    "            conn.commit()\n",
    "\n",
    "        except Exception as e:\n",
    "            print(f'Ocurrió el siguiente error al procesar el tutor {nombre}: {e}')\n",
    "            conn.rollback()  # Hacer rollback si ocurre un error en la inserción\n",
    "\n",
    "finally:\n",
    "    # Asegurarse de cerrar la conexión y el cursor fuera del ciclo\n",
    "    cursor.close()\n",
    "    conn.close()"
   ],
   "outputs": []
  },
  {
   "cell_type": "code",
   "execution_count": 33,
   "id": "ef9e9cc2-5a28-4ec4-92eb-2a6c0085c06e",
   "metadata": {},
   "source": [
    "display(con_tutor.columns)\n",
    "display(tutores.columns)"
   ],
   "outputs": []
  },
  {
   "cell_type": "code",
   "execution_count": 34,
   "id": "bc16db62-82cb-4116-83cf-06a74d5d4cbc",
   "metadata": {},
   "source": [
    "base_alumnos = pd.merge(con_tutor, tutores, on=['tutor', 'correo_tutor'], how='left')"
   ],
   "outputs": []
  },
  {
   "cell_type": "code",
   "execution_count": 37,
   "id": "3e7ef30b-1c26-473a-b6ca-31e4fc1e90e1",
   "metadata": {},
   "source": [
    "base_alumnos.head(1)"
   ],
   "outputs": []
  },
  {
   "cell_type": "code",
   "execution_count": 38,
   "id": "77782842-d301-4a88-836f-dd94bd213525",
   "metadata": {},
   "source": [
    "query1 = '''UPDATE becas.apoyo_alimenticio\n",
    "            SET tutor=%s\n",
    "            WHERE cuenta=%s;'''\n",
    "\n",
    "conn, cursor = conexion()\n",
    "\n",
    "for _, alumno in base_alumnos.iterrows():\n",
    "    cuenta = alumno['cuenta']\n",
    "    tutor = alumno['id']\n",
    "    try:\n",
    "        cursor.execute(query1, (tutor, cuenta))\n",
    "    except Exception as e:\n",
    "        print(f'Ocurrió el siguiente error: {e}')\n",
    "        \n",
    "# Confirmar los cambios\n",
    "conn.commit()\n",
    "\n",
    "# Cerrar cursor y conexión\n",
    "cursor.close()\n",
    "conn.close()"
   ],
   "outputs": []
  },
  {
   "cell_type": "code",
   "execution_count": null,
   "id": "0e32891a-46fa-45ca-ae45-ee0594776c9e",
   "metadata": {},
   "source": [],
   "outputs": []
  }
 ],
 "metadata": {
  "kernelspec": {
   "display_name": "Python 3 (ipykernel)",
   "language": "python",
   "name": "python3"
  },
  "language_info": {
   "codemirror_mode": {
    "name": "ipython",
    "version": 3
   },
   "file_extension": ".py",
   "mimetype": "text/x-python",
   "name": "python",
   "nbconvert_exporter": "python",
   "pygments_lexer": "ipython3",
   "version": "3.12.2"
  }
 },
 "nbformat": 4,
 "nbformat_minor": 5
}
